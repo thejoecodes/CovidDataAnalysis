{
 "cells": [
  {
   "cell_type": "code",
   "execution_count": 13,
   "id": "959c5741",
   "metadata": {},
   "outputs": [],
   "source": [
    "#Import Libraries\n",
    "\n",
    "from bs4 import BeautifulSoup\n",
    "import time\n",
    "import datetime\n",
    "import requests\n",
    "import smtplib"
   ]
  },
  {
   "cell_type": "code",
   "execution_count": 17,
   "id": "8f739633",
   "metadata": {
    "scrolled": false
   },
   "outputs": [
    {
     "name": "stdout",
     "output_type": "stream",
     "text": [
      "29,450\n",
      "HP M24f 23.8\" FHD Monitor, Black Color, Connectivity : VGA, HDMI 1.4 - 2D9K0AS\n"
     ]
    }
   ],
   "source": [
    "# Connect to Jumia Website and pull in data\n",
    "\n",
    "URL = \"https://www.jumia.co.ke/hp-m24f-23.8-fhd-monitor-black-color-connectivity-vga-hdmi-1.4-2d9k0as-151002564.html\"\n",
    "\n",
    "headers = {\"User-Agent\": \"Mozilla/5.0 (Windows NT 10.0; Win64; x64) AppleWebKit/537.36 (KHTML, like Gecko) Chrome/122.0.0.0 Safari/537.36\"}\n",
    "\n",
    "page = requests.get(URL, headers=headers)\n",
    "\n",
    "soup1 = BeautifulSoup(page.content, \"html.parser\")\n",
    "\n",
    "soup2 = BeautifulSoup(soup1.prettify(), \"html.parser\")\n",
    "\n",
    "price = soup2.find('span', class_ = '-b -ubpt -tal -fs16').text\n",
    "title = soup2.find('h3', class_ = '-elli -fs14').text\n",
    "\n",
    "price = price.strip()[4:]\n",
    "title = title.strip()\n",
    "\n",
    "print(price)\n",
    "print(title)"
   ]
  },
  {
   "cell_type": "code",
   "execution_count": 18,
   "id": "80f2e2a6",
   "metadata": {},
   "outputs": [
    {
     "name": "stdout",
     "output_type": "stream",
     "text": [
      "2024-02-28\n"
     ]
    }
   ],
   "source": [
    "# Create a Timestamp for your output to track when data was collected\n",
    "\n",
    "today = datetime.date.today()\n",
    "\n",
    "print(today)"
   ]
  },
  {
   "cell_type": "code",
   "execution_count": 19,
   "id": "d5789c62",
   "metadata": {},
   "outputs": [],
   "source": [
    "# Create CSV and write headers and data into the file\n",
    "\n",
    "import csv\n",
    "\n",
    "header = ['Title', 'Price', 'Date']\n",
    "data = [title, price, today]\n",
    "\n",
    "with open('JumiaHpMonitor.csv', 'w', newline = '', encoding = 'UTF8') as f:\n",
    "    writer = csv.writer(f)\n",
    "    writer.writerow(header)\n",
    "    writer.writerow(data)"
   ]
  },
  {
   "cell_type": "code",
   "execution_count": null,
   "id": "5736d7ed",
   "metadata": {
    "scrolled": true
   },
   "outputs": [],
   "source": [
    "import pandas as pd\n",
    "\n",
    "df = pd.read_csv(r\"C:\\Users\\SAiFUL\\Desktop\\Dev\\Python\\JumiaHpMonitor.csv\")\n",
    "\n",
    "print(df)"
   ]
  },
  {
   "cell_type": "code",
   "execution_count": 25,
   "id": "2738bfb4",
   "metadata": {},
   "outputs": [],
   "source": [
    "#Append data to csv\n",
    "\n",
    "with open('JumiaHpMonitor.csv', 'a+', newline = '', encoding='UTF8') as f:\n",
    "    writer = csv.writer(f)\n",
    "    writer.writerow(data)"
   ]
  },
  {
   "cell_type": "code",
   "execution_count": 26,
   "id": "984ab9c5",
   "metadata": {},
   "outputs": [],
   "source": [
    "# Creating a function from the above code\n",
    "\n",
    "def hp_price():\n",
    "    URL = \"https://www.jumia.co.ke/hp-m24f-23.8-fhd-monitor-black-color-connectivity-vga-hdmi-1.4-2d9k0as-151002564.html\"\n",
    "\n",
    "    headers = {\"User-Agent\": \"Mozilla/5.0 (Windows NT 10.0; Win64; x64) AppleWebKit/537.36 (KHTML, like Gecko) Chrome/122.0.0.0 Safari/537.36\"}\n",
    "\n",
    "    page = requests.get(URL, headers=headers)\n",
    "\n",
    "    soup1 = BeautifulSoup(page.content, \"html.parser\")\n",
    "\n",
    "    soup2 = BeautifulSoup(soup1.prettify(), \"html.parser\")\n",
    "\n",
    "    price = soup2.find('span', class_ = '-b -ubpt -tal -fs16').text\n",
    "    title = soup2.find('h3', class_ = '-elli -fs14').text\n",
    "\n",
    "    price = price.strip()[4:]\n",
    "    title = title.strip()\n",
    "    \n",
    "    today = datetime.date.today()\n",
    "    \n",
    "    import csv\n",
    "\n",
    "    header = ['Title', 'Price', 'Date']\n",
    "    data = [title, price, today]\n",
    "\n",
    "    with open('JumiaHpMonitor.csv', 'w', newline = '', encoding = 'UTF8') as f:\n",
    "        writer = csv.writer(f)\n",
    "        writer.writerow(data)\n",
    "    \n",
    "    "
   ]
  },
  {
   "cell_type": "code",
   "execution_count": null,
   "id": "cd4a71d0",
   "metadata": {},
   "outputs": [],
   "source": [
    "# Runs check_price after a set time and inputs data into your CSV\n",
    "\n",
    "while(True):\n",
    "    hp_price()\n",
    "    time.sleep(21600) #Change the time to your liking, currently set to 6 hours"
   ]
  },
  {
   "cell_type": "code",
   "execution_count": null,
   "id": "92e6434b",
   "metadata": {},
   "outputs": [],
   "source": [
    "import pandas as pd\n",
    "\n",
    "df = pd.read_csv(r\"C:\\Users\\SAiFUL\\Desktop\\Dev\\Python\\JumiaHpMonitor.csv\")\n",
    "\n",
    "print(df)"
   ]
  },
  {
   "cell_type": "code",
   "execution_count": null,
   "id": "07149165",
   "metadata": {},
   "outputs": [],
   "source": [
    "# Sends an email to me incase of a price drop\n",
    "\n",
    "def send_mail():\n",
    "    server = smtplib.SMTP_SSL('smtp.gmail.com',465)\n",
    "    server.ehlo()\n",
    "    #server.starttls()\n",
    "    server.ehlo()\n",
    "    server.login('okalljosh@gmail.com','xxxxxxxxxxxxxx')\n",
    "    \n",
    "    subject = \"The HP Monitor you want is below Ksh. 29,450! Now is your chance to buy!\"\n",
    "    body = \"Hello Okall,\\n This is the moment we have been waiting for. Now is your chance to buy the Hp Monitor you have always wanted. Don't mess it up! Link here: https://www.jumia.co.ke/hp-m24f-23.8-fhd-monitor-black-color-connectivity-vga-hdmi-1.4-2d9k0as-151002564.html\"\n",
    "   \n",
    "    msg = f\"Subject: {subject}\\n\\n{body}\"\n",
    "    \n",
    "    server.sendmail(\n",
    "        'okalljosh@gmail.com',\n",
    "        msg\n",
    "     \n",
    "    )"
   ]
  }
 ],
 "metadata": {
  "kernelspec": {
   "display_name": "Python 3 (ipykernel)",
   "language": "python",
   "name": "python3"
  },
  "language_info": {
   "codemirror_mode": {
    "name": "ipython",
    "version": 3
   },
   "file_extension": ".py",
   "mimetype": "text/x-python",
   "name": "python",
   "nbconvert_exporter": "python",
   "pygments_lexer": "ipython3",
   "version": "3.11.5"
  }
 },
 "nbformat": 4,
 "nbformat_minor": 5
}
